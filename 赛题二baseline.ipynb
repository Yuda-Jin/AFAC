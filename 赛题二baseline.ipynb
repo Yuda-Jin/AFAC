{
 "cells": [
  {
   "cell_type": "markdown",
   "id": "dde363e5-3acb-442e-b830-02f1f9e488e3",
   "metadata": {},
   "source": [
    "# 大模型API\n",
    "\n",
    "- 云端大模型：https://bailian.console.aliyun.com/\n",
    "- 本地大模型：https://qwen.readthedocs.io/zh-cn/latest/getting_started/quickstart.html"
   ]
  },
  {
   "cell_type": "code",
   "execution_count": 23,
   "id": "f89887f1-bc3c-4f10-b017-39a00ddb36ed",
   "metadata": {
    "scrolled": true
   },
   "outputs": [
    {
     "name": "stdout",
     "output_type": "stream",
     "text": [
      "{\"id\":\"019772ff5438f8ef868a390cfeb671b0\",\"choices\":[{\"finish_reason\":\"stop\",\"index\":0,\"logprobs\":null,\"message\":{\"content\":\"\\n\\n你好！我是通义千问，阿里巴巴集团旗下的超大规模语言模型。我可以帮助你回答问题、创作文字（如写故事、写公文、写邮件、写剧本等），还能进行逻辑推理、编程，甚至表达观点和玩游戏。\\n\\n你可以把我当成一个全能型的智能助手，无论是学术问题、生活常识、科技知识，还是创意写作，我都会尽力为你提供帮助。如果你有任何问题或需要协助的地方，随时告诉我！😊\",\"refusal\":null,\"role\":\"assistant\",\"annotations\":null,\"audio\":null,\"function_call\":null,\"tool_calls\":null,\"reasoning_content\":\"嗯，用户问我“你是谁？”，我需要先确定他们想了解的具体内容。他们可能想知道我的身份、功能或者我能提供什么帮助。首先，我应该简要介绍自己作为阿里巴巴集团旗下的AI助手，然后说明我的主要功能，比如回答问题、提供建议、协助创作等。可能还需要提到我的语言能力和支持的领域，比如科技、文化、生活等方面。另外，用户可能希望知道如何与我互动，或者有什么特别之处，比如多语言支持或实时信息处理能力。我需要保持回答简洁明了，同时涵盖关键点，避免信息过载。另外，要确保用口语化的中文，让回答更自然。有没有需要特别强调的部分？比如我的训练数据截止时间或者隐私政策？不过用户可能更关心我能直接提供什么帮助。可能需要以开放式的结尾，邀请他们提出具体问题。检查是否有遗漏的重要信息，比如我的名字通义千问，以及所属的模型系列。确保回答友好且有帮助，让用户感到欢迎。\\n\"}}],\"created\":1749981025,\"model\":\"Qwen/QwQ-32B\",\"object\":\"chat.completion\",\"service_tier\":null,\"system_fingerprint\":\"\",\"usage\":{\"completion_tokens\":310,\"prompt_tokens\":24,\"total_tokens\":334,\"completion_tokens_details\":{\"accepted_prediction_tokens\":null,\"audio_tokens\":null,\"reasoning_tokens\":213,\"rejected_prediction_tokens\":null},\"prompt_tokens_details\":null}}\n"
     ]
    }
   ],
   "source": [
    "import os\n",
    "from openai import OpenAI\n",
    "\n",
    "\n",
    "client = OpenAI(\n",
    "    # 若没有配置环境变量，请用百炼API Key将下行替换为：api_key=\"sk-xxx\",\n",
    "    # https://bailian.console.aliyun.com/?tab=model#/api-key\n",
    "api_key=\"sk-dvzrirhbryogkhcnrxoauhmkwlztphvihcishgvkciofjvsx\", \n",
    "    base_url=\"https://api.siliconflow.cn/v1/\"\n",
    ")\n",
    "\n",
    "completion = client.chat.completions.create(\n",
    "    # 模型列表：https://help.aliyun.com/zh/model-studio/getting-started/models\n",
    "    model=\"Qwen/QwQ-32B\", # 这个模型免费\n",
    "    messages=[\n",
    "        {\"role\": \"system\", \"content\": \"You are a helpful assistant.\"},\n",
    "        {\"role\": \"user\", \"content\": \"你是谁？\"},\n",
    "    ],\n",
    "    # Qwen3模型通过enable_thinking参数控制思考过程（开源版默认True，商业版默认False）\n",
    "    # 使用Qwen3开源版模型时，若未启用流式输出，请将下行取消注释，否则会报错\n",
    "    #  \n",
    ")\n",
    "print(completion.model_dump_json())"
   ]
  },
  {
   "cell_type": "code",
   "execution_count": 24,
   "id": "9fce2b22-3507-4092-8720-445edf3ec176",
   "metadata": {},
   "outputs": [
    {
     "data": {
      "text/plain": [
       "'\\n\\n你好！我是通义千问，阿里巴巴集团旗下的超大规模语言模型。我可以帮助你回答问题、创作文字（如写故事、写公文、写邮件、写剧本等），还能进行逻辑推理、编程，甚至表达观点和玩游戏。\\n\\n你可以把我当成一个全能型的智能助手，无论是学术问题、生活常识、科技知识，还是创意写作，我都会尽力为你提供帮助。如果你有任何问题或需要协助的地方，随时告诉我！😊'"
      ]
     },
     "execution_count": 24,
     "metadata": {},
     "output_type": "execute_result"
    }
   ],
   "source": [
    "completion.choices[0].message.content"
   ]
  },
  {
   "cell_type": "code",
   "execution_count": 25,
   "id": "f948a22e-16c6-4001-a8e4-e6a82178041b",
   "metadata": {},
   "outputs": [],
   "source": [
    "import pandas as pd\n",
    "import glob, json, re\n",
    "import numpy as np"
   ]
  },
  {
   "cell_type": "code",
   "execution_count": 26,
   "id": "ecd72c2d-9022-4936-b71f-6986c2cd64f8",
   "metadata": {},
   "outputs": [
    {
     "data": {
      "text/html": [
       "<div>\n",
       "<style scoped>\n",
       "    .dataframe tbody tr th:only-of-type {\n",
       "        vertical-align: middle;\n",
       "    }\n",
       "\n",
       "    .dataframe tbody tr th {\n",
       "        vertical-align: top;\n",
       "    }\n",
       "\n",
       "    .dataframe thead th {\n",
       "        text-align: right;\n",
       "    }\n",
       "</style>\n",
       "<table border=\"1\" class=\"dataframe\">\n",
       "  <thead>\n",
       "    <tr style=\"text-align: right;\">\n",
       "      <th></th>\n",
       "      <th>material_id</th>\n",
       "      <th>rule_id</th>\n",
       "      <th>rule</th>\n",
       "      <th>result</th>\n",
       "    </tr>\n",
       "  </thead>\n",
       "  <tbody>\n",
       "    <tr>\n",
       "      <th>0</th>\n",
       "      <td>m_00001s</td>\n",
       "      <td>r_00001</td>\n",
       "      <td>该产品的保障责任在各材料中的定义没有冲突</td>\n",
       "      <td>False</td>\n",
       "    </tr>\n",
       "    <tr>\n",
       "      <th>1</th>\n",
       "      <td>m_00002s</td>\n",
       "      <td>r_00002</td>\n",
       "      <td>该产品的责任免除在各材料中的定义没有冲突</td>\n",
       "      <td>False</td>\n",
       "    </tr>\n",
       "    <tr>\n",
       "      <th>2</th>\n",
       "      <td>m_00003s</td>\n",
       "      <td>r_00003</td>\n",
       "      <td>该产品的责任免除在各材料中的定义没有冲突</td>\n",
       "      <td>False</td>\n",
       "    </tr>\n",
       "    <tr>\n",
       "      <th>3</th>\n",
       "      <td>m_00004s</td>\n",
       "      <td>r_00004</td>\n",
       "      <td>该产品的保障相关时间在各材料中的定义没有冲突</td>\n",
       "      <td>True</td>\n",
       "    </tr>\n",
       "    <tr>\n",
       "      <th>4</th>\n",
       "      <td>m_00005s</td>\n",
       "      <td>r_00005</td>\n",
       "      <td>该产品的赔付 &amp; 领取规则在各材料中的定义没有冲突</td>\n",
       "      <td>False</td>\n",
       "    </tr>\n",
       "    <tr>\n",
       "      <th>5</th>\n",
       "      <td>m_00006s</td>\n",
       "      <td>r_00006</td>\n",
       "      <td>该产品的保障相关时间在各材料中的定义没有冲突</td>\n",
       "      <td>True</td>\n",
       "    </tr>\n",
       "    <tr>\n",
       "      <th>6</th>\n",
       "      <td>m_00007s</td>\n",
       "      <td>r_00007</td>\n",
       "      <td>该产品的投保条款在各材料中的定义没有冲突</td>\n",
       "      <td>False</td>\n",
       "    </tr>\n",
       "    <tr>\n",
       "      <th>7</th>\n",
       "      <td>m_00008s</td>\n",
       "      <td>r_00008</td>\n",
       "      <td>该产品的赔付 &amp; 领取规则在各材料中的定义没有冲突</td>\n",
       "      <td>True</td>\n",
       "    </tr>\n",
       "    <tr>\n",
       "      <th>8</th>\n",
       "      <td>m_00009s</td>\n",
       "      <td>r_00009</td>\n",
       "      <td>该产品的基础产品销售信息在各材料中的定义没有冲突</td>\n",
       "      <td>False</td>\n",
       "    </tr>\n",
       "    <tr>\n",
       "      <th>9</th>\n",
       "      <td>m_00010s</td>\n",
       "      <td>r_00010</td>\n",
       "      <td>该产品的投保条款在各材料中的定义没有冲突</td>\n",
       "      <td>True</td>\n",
       "    </tr>\n",
       "    <tr>\n",
       "      <th>10</th>\n",
       "      <td>m_00011s</td>\n",
       "      <td>r_00011</td>\n",
       "      <td>该产品的附加条款在各材料中的定义没有冲突</td>\n",
       "      <td>True</td>\n",
       "    </tr>\n",
       "    <tr>\n",
       "      <th>11</th>\n",
       "      <td>m_00012s</td>\n",
       "      <td>r_00012</td>\n",
       "      <td>该产品的赔付 &amp; 领取规则在各材料中的定义没有冲突</td>\n",
       "      <td>False</td>\n",
       "    </tr>\n",
       "    <tr>\n",
       "      <th>12</th>\n",
       "      <td>m_00013s</td>\n",
       "      <td>r_00013</td>\n",
       "      <td>该产品的责任免除在各材料中的定义没有冲突</td>\n",
       "      <td>False</td>\n",
       "    </tr>\n",
       "    <tr>\n",
       "      <th>13</th>\n",
       "      <td>m_00014s</td>\n",
       "      <td>r_00014</td>\n",
       "      <td>该产品的保障责任在各材料中的定义没有冲突</td>\n",
       "      <td>True</td>\n",
       "    </tr>\n",
       "    <tr>\n",
       "      <th>14</th>\n",
       "      <td>m_00002s</td>\n",
       "      <td>r_00015</td>\n",
       "      <td>该产品的基础产品销售信息在各材料中的定义没有冲突</td>\n",
       "      <td>True</td>\n",
       "    </tr>\n",
       "    <tr>\n",
       "      <th>15</th>\n",
       "      <td>m_00015s</td>\n",
       "      <td>r_00016</td>\n",
       "      <td>该产品的与保障相关的时间在各材料中的定义没有冲突</td>\n",
       "      <td>False</td>\n",
       "    </tr>\n",
       "    <tr>\n",
       "      <th>16</th>\n",
       "      <td>m_00016s</td>\n",
       "      <td>r_00017</td>\n",
       "      <td>该产品的责任免除在各材料中的定义没有冲突</td>\n",
       "      <td>False</td>\n",
       "    </tr>\n",
       "    <tr>\n",
       "      <th>17</th>\n",
       "      <td>m_00017s</td>\n",
       "      <td>r_00018</td>\n",
       "      <td>该产品的保障责任在各材料中的定义没有冲突</td>\n",
       "      <td>False</td>\n",
       "    </tr>\n",
       "    <tr>\n",
       "      <th>18</th>\n",
       "      <td>m_00018s</td>\n",
       "      <td>r_00019</td>\n",
       "      <td>该产品的保障责任在各材料中的定义没有冲突</td>\n",
       "      <td>False</td>\n",
       "    </tr>\n",
       "    <tr>\n",
       "      <th>19</th>\n",
       "      <td>m_00019s</td>\n",
       "      <td>r_00020</td>\n",
       "      <td>该产品的投保条款在各材料中的定义没有冲突</td>\n",
       "      <td>True</td>\n",
       "    </tr>\n",
       "  </tbody>\n",
       "</table>\n",
       "</div>"
      ],
      "text/plain": [
       "   material_id  rule_id                       rule  result\n",
       "0     m_00001s  r_00001       该产品的保障责任在各材料中的定义没有冲突   False\n",
       "1     m_00002s  r_00002       该产品的责任免除在各材料中的定义没有冲突   False\n",
       "2     m_00003s  r_00003       该产品的责任免除在各材料中的定义没有冲突   False\n",
       "3     m_00004s  r_00004     该产品的保障相关时间在各材料中的定义没有冲突    True\n",
       "4     m_00005s  r_00005  该产品的赔付 & 领取规则在各材料中的定义没有冲突   False\n",
       "5     m_00006s  r_00006     该产品的保障相关时间在各材料中的定义没有冲突    True\n",
       "6     m_00007s  r_00007       该产品的投保条款在各材料中的定义没有冲突   False\n",
       "7     m_00008s  r_00008  该产品的赔付 & 领取规则在各材料中的定义没有冲突    True\n",
       "8     m_00009s  r_00009   该产品的基础产品销售信息在各材料中的定义没有冲突   False\n",
       "9     m_00010s  r_00010       该产品的投保条款在各材料中的定义没有冲突    True\n",
       "10    m_00011s  r_00011       该产品的附加条款在各材料中的定义没有冲突    True\n",
       "11    m_00012s  r_00012  该产品的赔付 & 领取规则在各材料中的定义没有冲突   False\n",
       "12    m_00013s  r_00013       该产品的责任免除在各材料中的定义没有冲突   False\n",
       "13    m_00014s  r_00014       该产品的保障责任在各材料中的定义没有冲突    True\n",
       "14    m_00002s  r_00015   该产品的基础产品销售信息在各材料中的定义没有冲突    True\n",
       "15    m_00015s  r_00016   该产品的与保障相关的时间在各材料中的定义没有冲突   False\n",
       "16    m_00016s  r_00017       该产品的责任免除在各材料中的定义没有冲突   False\n",
       "17    m_00017s  r_00018       该产品的保障责任在各材料中的定义没有冲突   False\n",
       "18    m_00018s  r_00019       该产品的保障责任在各材料中的定义没有冲突   False\n",
       "19    m_00019s  r_00020       该产品的投保条款在各材料中的定义没有冲突    True"
      ]
     },
     "execution_count": 26,
     "metadata": {},
     "output_type": "execute_result"
    }
   ],
   "source": [
    "pd.read_json(\"样例集/data.jsonl\", lines=True)"
   ]
  },
  {
   "cell_type": "code",
   "execution_count": 27,
   "id": "fe514f46-a713-4867-80bf-04dd4d1f4508",
   "metadata": {},
   "outputs": [
    {
     "data": {
      "text/plain": [
       "rule\n",
       "该产品的保障责任在各材料中的定义没有冲突         4\n",
       "该产品的责任免除在各材料中的定义没有冲突         4\n",
       "该产品的赔付 & 领取规则在各材料中的定义没有冲突    3\n",
       "该产品的投保条款在各材料中的定义没有冲突         3\n",
       "该产品的保障相关时间在各材料中的定义没有冲突       2\n",
       "该产品的基础产品销售信息在各材料中的定义没有冲突     2\n",
       "该产品的附加条款在各材料中的定义没有冲突         1\n",
       "该产品的与保障相关的时间在各材料中的定义没有冲突     1\n",
       "Name: count, dtype: int64"
      ]
     },
     "execution_count": 27,
     "metadata": {},
     "output_type": "execute_result"
    }
   ],
   "source": [
    "pd.read_json(\"样例集/data.jsonl\", lines=True)[\"rule\"].value_counts()"
   ]
  },
  {
   "cell_type": "code",
   "execution_count": 28,
   "id": "0ca09fdc-6a74-41a3-b709-4aee7dbfb0d7",
   "metadata": {},
   "outputs": [
    {
     "data": {
      "text/plain": [
       "rule\n",
       "该产品的赔付 & 领取规则在各材料中的定义没有冲突    29\n",
       "该产品的责任免除在各材料中的定义没有冲突         28\n",
       "该产品的投保条款在各材料中的定义没有冲突         28\n",
       "该产品的保障责任在各材料中的定义没有冲突         21\n",
       "该产品的基础产品销售信息在各材料中的定义没有冲突     14\n",
       "该产品的退保条款在各材料中的定义没有冲突         13\n",
       "该产品的附加条款在各材料中的定义没有冲突         13\n",
       "该产品的续保条款在各材料中的定义没有冲突         11\n",
       "该产品的与保障相关的时间在各材料中的定义没有冲突     11\n",
       "该产品的出险条款在各材料中的定义没有冲突         11\n",
       "该产品的术语解释在各材料中的定义没有冲突         11\n",
       "该产品的保障相关时间在各材料中的定义没有冲突       10\n",
       "Name: count, dtype: int64"
      ]
     },
     "execution_count": 28,
     "metadata": {},
     "output_type": "execute_result"
    }
   ],
   "source": [
    "pd.read_json(\"测试 A 集/data.jsonl\", lines=True)[\"rule\"].value_counts()"
   ]
  },
  {
   "cell_type": "markdown",
   "id": "e6ca9ad4-5b34-46c5-8189-70d664fa3da0",
   "metadata": {},
   "source": [
    "# 方案1：基础提示词思路"
   ]
  },
  {
   "cell_type": "code",
   "execution_count": 29,
   "id": "27dde746-19d5-4c5e-9512-8d6bf5e33211",
   "metadata": {},
   "outputs": [],
   "source": [
    "def get_chunk_list(lst, chunk_size=200):\n",
    "    \"\"\"Yield successive chunk_size chunks from lst.\"\"\"\n",
    "    for i in range(0, len(lst), chunk_size):\n",
    "        yield lst[i:i + chunk_size]\n",
    "\n",
    "def exteract_module_raw_text(module_name, lines):\n",
    "    completion = client.chat.completions.create(\n",
    "        model=\"Qwen/QwQ-32B\",\n",
    "        messages=[\n",
    "            {\"role\": \"system\", \"content\": f\"\"\"你是一个专业的保险行业的信息处理专家，请对下面的文本中抽取出与{module_name}相关的文本，只需要输出原文，不要有其他输出。如果相关的本文本不存在，则输出一个空格。\"\"\"},\n",
    "            {\"role\": \"user\", \"content\": \"\".join(lines)},\n",
    "        ],\n",
    "         \n",
    "    )\n",
    "    return completion.choices[0].message.content\n",
    "\n",
    "def analysis_conflict(module_name, content1, content2):\n",
    "    completion = client.chat.completions.create(\n",
    "        model=\"Qwen/QwQ-32B\",\n",
    "        messages=[\n",
    "            {\"role\": \"system\", \"content\": f\"\"\"你是一个专业的保险行业的信息处理专家，请对下面文本进行严谨的一致性进行分析，判断是否相同条件的表达存在不一致的情况，只需要回答一致或不一致，不要有其他任何输出。\n",
    "            \n",
    "- 基础产品销售信息：该保险产品的基础配置信息，包括产品名、附加的条款信息、销售限制等；\n",
    "- 投保条款：投保过程中的缴费约定、投被保人条件限制等；\n",
    "- 保障责任：约定该产品的保险责任细节，如保障范围、保险金额、增值服务等；\n",
    "- 保障相关时间：约定该产品的各类时间信息，包括但不限于犹豫期、等待期、宽限期等；\n",
    "- 赔付 & 领取规则：约定该产品的保险责任的赔付、给付、领取及免赔细节，如赔付年龄/比例/次数等；\n",
    "- 责任免除：约定该产品不承担保险责任的情形；\n",
    "- 续保条款：约定续保相关信息，包括但不限于续保条件、保证续保等；\n",
    "- 退保条款：约定退保相关信息，包括但不限于退保条件、退保手续费等；\n",
    "- 出险条款：约定出险相关信息，包括但不限于出险地点、出险方式等；\n",
    "- 附加条款：约定该产品的附加条款，如特别约定等；\n",
    "- 术语解释：约定该产品的术语解释，如名词定义等；\"\"\"},\n",
    "            {\"role\": \"user\", \"content\": f\"\"\"片段1\\n{content1}\\n\\n片段2\\n{content2}\\n\\n分析上述两个片段的{module_name}是否存在相同的条件但表达不一致的情况。\"\"\"},\n",
    "        ],\n",
    "         \n",
    "    )\n",
    "    return completion.choices[0].message.content"
   ]
  },
  {
   "cell_type": "code",
   "execution_count": 31,
   "id": "f7249c23-7f64-4d45-9a04-3b77c6163f6d",
   "metadata": {
    "scrolled": true
   },
   "outputs": [
    {
     "data": {
      "application/vnd.jupyter.widget-view+json": {
       "model_id": "797933db2e7c4afcae845b209e076d20",
       "version_major": 2,
       "version_minor": 0
      },
      "text/plain": [
       "处理数据: 0it [00:00, ?it/s]"
      ]
     },
     "metadata": {},
     "output_type": "display_data"
    }
   ],
   "source": [
    "# 在导入部分添加\n",
    "from tqdm.notebook import tqdm\n",
    "\n",
    "# 修改主循环部分\n",
    "for row in tqdm(pd.read_json(\"样例集/data.jsonl\", lines=True).iloc[2:4].iterrows(), desc=\"处理数据\"):\n",
    "    module_name = row[1].rule.replace(\"该产品的\", \"\").replace(\"在各材料中的定义没有冲突\", \"\")\n",
    "\n",
    "    module_content_list = []\n",
    "    for path in glob.glob(f\"样例集/materials/{row[1].material_id}/*/*\"):\n",
    "        lines = open(path).readlines()\n",
    "\n",
    "        module_lines = \"\"\n",
    "        for chunk_lines in get_chunk_list(lines):\n",
    "            res = exteract_module_raw_text(module_name, chunk_lines)\n",
    "            if res:\n",
    "                module_lines = module_lines + res\n",
    "        \n",
    "        module_content_list.append(module_lines)\n",
    "\n",
    "    print(\"\\n\")\n",
    "    print(row[1].material_id)\n",
    "    for i in range(len(module_content_list)):\n",
    "        for j in range(i, len(module_content_list)):\n",
    "            print(analysis_conflict(module_name, module_content_list[i], module_content_list[j]))"
   ]
  },
  {
   "cell_type": "code",
   "execution_count": null,
   "id": "dadfc0ad-c793-45c5-9630-4225a2e3ff71",
   "metadata": {},
   "outputs": [],
   "source": [
    "test = pd.read_json(\"测试 A 集/data.jsonl\", lines=True)\n",
    "test"
   ]
  },
  {
   "cell_type": "code",
   "execution_count": null,
   "id": "c5d5a6f7-9b2b-425d-b6f6-a544b4352233",
   "metadata": {},
   "outputs": [],
   "source": [
    "pd.read_json(\"测试 A 集/data.jsonl\", lines=True).iloc[124:]"
   ]
  },
  {
   "cell_type": "code",
   "execution_count": null,
   "id": "52fe1aa6-e75b-4c2b-bd64-effa74bf6702",
   "metadata": {
    "scrolled": true
   },
   "outputs": [],
   "source": [
    "for row in pd.read_json(\"测试 A 集/data.jsonl\", lines=True).iloc[:].iterrows():\n",
    "    module_name = row[1].rule.replace(\"该产品的\", \"\").replace(\"在各材料中的定义没有冲突\", \"\")\n",
    "\n",
    "    print(\"\")\n",
    "    print(row[1].material_id)\n",
    "\n",
    "    try:\n",
    "        module_content_list = []\n",
    "        for path in glob.glob(f\"测试 A 集/materials/{row[1].material_id}/*/*\"):\n",
    "            print(path)\n",
    "            lines = open(path).readlines()\n",
    "            module_lines = \"\"\n",
    "            for chunk_lines in get_chunk_list(lines):\n",
    "                res = exteract_module_raw_text(module_name, chunk_lines)\n",
    "                if res:\n",
    "                    module_lines = module_lines + res\n",
    "            \n",
    "            module_content_list.append(module_lines)\n",
    "    \n",
    "        result = [0, 1]\n",
    "        for i in range(len(module_content_list)):\n",
    "            for j in range(i, len(module_content_list)):\n",
    "                if \"不一致\" in analysis_conflict(module_name, module_content_list[i], module_content_list[j]):\n",
    "                    result.append(1)\n",
    "                else:\n",
    "                    result.append(0)\n",
    "    \n",
    "        with open(\"submit.jsonl\", \"a\") as up:\n",
    "            up.write(json.dumps({\n",
    "                \"material_id\": row[1].material_id,\n",
    "                \"rule_id\": row[1].rule_id,\n",
    "                \"result\": bool(np.mean(result) < 0.3)\n",
    "            }) + \"\\n\")\n",
    "    \n",
    "        print(np.mean(result))\n",
    "    except:\n",
    "        with open(\"submit.jsonl\", \"a\") as up:\n",
    "            up.write(json.dumps({\n",
    "                \"material_id\": row[1].material_id,\n",
    "                \"rule_id\": row[1].rule_id,\n",
    "                \"result\": False\n",
    "            }) + \"\\n\")"
   ]
  }
 ],
 "metadata": {
  "kernelspec": {
   "display_name": ".venv",
   "language": "python",
   "name": "python3"
  },
  "language_info": {
   "codemirror_mode": {
    "name": "ipython",
    "version": 3
   },
   "file_extension": ".py",
   "mimetype": "text/x-python",
   "name": "python",
   "nbconvert_exporter": "python",
   "pygments_lexer": "ipython3",
   "version": "3.12.10"
  }
 },
 "nbformat": 4,
 "nbformat_minor": 5
}
