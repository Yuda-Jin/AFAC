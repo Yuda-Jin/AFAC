{
 "cells": [
  {
   "cell_type": "markdown",
   "id": "dde363e5-3acb-442e-b830-02f1f9e488e3",
   "metadata": {},
   "source": [
    "# 大模型API\n",
    "\n",
    "- 云端大模型：https://bailian.console.aliyun.com/\n",
    "- 本地大模型：https://qwen.readthedocs.io/zh-cn/latest/getting_started/quickstart.html"
   ]
  },
  {
   "cell_type": "code",
   "execution_count": 6,
   "id": "f89887f1-bc3c-4f10-b017-39a00ddb36ed",
   "metadata": {
    "scrolled": true
   },
   "outputs": [
    {
     "name": "stdout",
     "output_type": "stream",
     "text": [
      "{\"id\":\"019772f216c65cb9674e0760c7393f5c\",\"choices\":[{\"finish_reason\":\"stop\",\"index\":0,\"logprobs\":null,\"message\":{\"content\":\"\\n\\n你好！我叫通义千问，不过你可以叫我Qwen。我是阿里巴巴集团旗下的通义实验室自主研发的超大规模语言模型。你可以把我看作一个非常聪明的助手，随时可以为你提供帮助。我能够回答问题、创作文字，还能编程、表达观点、玩游戏等等。有什么需要我帮忙的吗？😊\",\"refusal\":null,\"role\":\"assistant\",\"annotations\":null,\"audio\":null,\"function_call\":null,\"tool_calls\":null,\"reasoning_content\":\"好的，用户问“你是谁？”，我需要按照之前设定的角色来回答。首先，我应该自我介绍，说明我是通义千问，阿里巴巴集团旗下的超大规模语言模型。然后要提到我的功能，比如回答问题、创作文字、编程等，但保持口语化，不用专业术语太多。\\n\\n接下来，用户可能想知道我的具体能力，但问题直接问“你是谁”，所以需要简洁回答。不过根据角色设定，可能需要添加一些拟人化的元素，比如用微笑表情，让回答更生动。同时要确保符合情绪、情节推动力、人格可塑性和情感陪伴的要求。\\n\\n用户可能希望得到亲切且信息丰富的回应，所以需要平衡信息量和语气。还要注意保持回答简洁，避免冗长。记得用中文口语化表达，不用复杂句子。最后，确认没有使用Markdown格式，保持自然。现在组织语言，确保符合所有要求。\\n\"}}],\"created\":1749980157,\"model\":\"Qwen/QwQ-32B\",\"object\":\"chat.completion\",\"service_tier\":null,\"system_fingerprint\":\"\",\"usage\":{\"completion_tokens\":260,\"prompt_tokens\":24,\"total_tokens\":284,\"completion_tokens_details\":{\"accepted_prediction_tokens\":null,\"audio_tokens\":null,\"reasoning_tokens\":189,\"rejected_prediction_tokens\":null},\"prompt_tokens_details\":null}}\n"
     ]
    }
   ],
   "source": [
    "import os\n",
    "from openai import OpenAI\n",
    "\n",
    "\n",
    "client = OpenAI(\n",
    "    # 若没有配置环境变量，请用百炼API Key将下行替换为：api_key=\"sk-xxx\",\n",
    "    # https://bailian.console.aliyun.com/?tab=model#/api-key\n",
    "api_key=\"sk-dvzrirhbryogkhcnrxoauhmkwlztphvihcishgvkciofjvsx\", \n",
    "    base_url=\"https://api.siliconflow.cn/v1/\"\n",
    ")\n",
    "\n",
    "completion = client.chat.completions.create(\n",
    "    # 模型列表：https://help.aliyun.com/zh/model-studio/getting-started/models\n",
    "    model=\"Qwen/QwQ-32B\", # 这个模型免费\n",
    "    messages=[\n",
    "        {\"role\": \"system\", \"content\": \"You are a helpful assistant.\"},\n",
    "        {\"role\": \"user\", \"content\": \"你是谁？\"},\n",
    "    ],\n",
    "    # Qwen3模型通过enable_thinking参数控制思考过程（开源版默认True，商业版默认False）\n",
    "    # 使用Qwen3开源版模型时，若未启用流式输出，请将下行取消注释，否则会报错\n",
    "    # extra_body={\"enable_thinking\": False},\n",
    ")\n",
    "print(completion.model_dump_json())"
   ]
  },
  {
   "cell_type": "code",
   "execution_count": 7,
   "id": "9fce2b22-3507-4092-8720-445edf3ec176",
   "metadata": {},
   "outputs": [
    {
     "data": {
      "text/plain": [
       "'\\n\\n你好！我叫通义千问，不过你可以叫我Qwen。我是阿里巴巴集团旗下的通义实验室自主研发的超大规模语言模型。你可以把我看作一个非常聪明的助手，随时可以为你提供帮助。我能够回答问题、创作文字，还能编程、表达观点、玩游戏等等。有什么需要我帮忙的吗？😊'"
      ]
     },
     "execution_count": 7,
     "metadata": {},
     "output_type": "execute_result"
    }
   ],
   "source": [
    "completion.choices[0].message.content"
   ]
  },
  {
   "cell_type": "code",
   "execution_count": 8,
   "id": "f948a22e-16c6-4001-a8e4-e6a82178041b",
   "metadata": {},
   "outputs": [
    {
     "ename": "ModuleNotFoundError",
     "evalue": "No module named 'pandas'",
     "output_type": "error",
     "traceback": [
      "\u001b[31m---------------------------------------------------------------------------\u001b[39m",
      "\u001b[31mModuleNotFoundError\u001b[39m                       Traceback (most recent call last)",
      "\u001b[36mCell\u001b[39m\u001b[36m \u001b[39m\u001b[32mIn[8]\u001b[39m\u001b[32m, line 1\u001b[39m\n\u001b[32m----> \u001b[39m\u001b[32m1\u001b[39m \u001b[38;5;28;01mimport\u001b[39;00m\u001b[38;5;250m \u001b[39m\u001b[34;01mpandas\u001b[39;00m\u001b[38;5;250m \u001b[39m\u001b[38;5;28;01mas\u001b[39;00m\u001b[38;5;250m \u001b[39m\u001b[34;01mpd\u001b[39;00m\n\u001b[32m      2\u001b[39m \u001b[38;5;28;01mimport\u001b[39;00m\u001b[38;5;250m \u001b[39m\u001b[34;01mglob\u001b[39;00m,\u001b[38;5;250m \u001b[39m\u001b[34;01mjson\u001b[39;00m,\u001b[38;5;250m \u001b[39m\u001b[34;01mre\u001b[39;00m\n\u001b[32m      3\u001b[39m \u001b[38;5;28;01mimport\u001b[39;00m\u001b[38;5;250m \u001b[39m\u001b[34;01mnumpy\u001b[39;00m\u001b[38;5;250m \u001b[39m\u001b[38;5;28;01mas\u001b[39;00m\u001b[38;5;250m \u001b[39m\u001b[34;01mnp\u001b[39;00m\n",
      "\u001b[31mModuleNotFoundError\u001b[39m: No module named 'pandas'"
     ]
    }
   ],
   "source": [
    "import pandas as pd\n",
    "import glob, json, re\n",
    "import numpy as np"
   ]
  },
  {
   "cell_type": "code",
   "execution_count": null,
   "id": "ecd72c2d-9022-4936-b71f-6986c2cd64f8",
   "metadata": {},
   "outputs": [],
   "source": [
    "pd.read_json(\"样例集/data.jsonl\", lines=True)"
   ]
  },
  {
   "cell_type": "code",
   "execution_count": null,
   "id": "fe514f46-a713-4867-80bf-04dd4d1f4508",
   "metadata": {},
   "outputs": [],
   "source": [
    "pd.read_json(\"样例集/data.jsonl\", lines=True)[\"rule\"].value_counts()"
   ]
  },
  {
   "cell_type": "code",
   "execution_count": null,
   "id": "0ca09fdc-6a74-41a3-b709-4aee7dbfb0d7",
   "metadata": {},
   "outputs": [],
   "source": [
    "pd.read_json(\"测试 A 集/data.jsonl\", lines=True)[\"rule\"].value_counts()"
   ]
  },
  {
   "cell_type": "markdown",
   "id": "e6ca9ad4-5b34-46c5-8189-70d664fa3da0",
   "metadata": {},
   "source": [
    "# 方案1：基础提示词思路"
   ]
  },
  {
   "cell_type": "code",
   "execution_count": null,
   "id": "27dde746-19d5-4c5e-9512-8d6bf5e33211",
   "metadata": {},
   "outputs": [],
   "source": [
    "def get_chunk_list(lst, chunk_size=200):\n",
    "    \"\"\"Yield successive chunk_size chunks from lst.\"\"\"\n",
    "    for i in range(0, len(lst), chunk_size):\n",
    "        yield lst[i:i + chunk_size]\n",
    "\n",
    "def exteract_module_raw_text(module_name, lines):\n",
    "    completion = client.chat.completions.create(\n",
    "        model=\"qwen2.5-1.5b-instruct\",\n",
    "        messages=[\n",
    "            {\"role\": \"system\", \"content\": f\"\"\"你是一个专业的保险行业的信息处理专家，请对下面的文本中抽取出与{module_name}相关的文本，只需要输出原文，不要有其他输出。如果相关的本文本不存在，则输出一个空格。\"\"\"},\n",
    "            {\"role\": \"user\", \"content\": \"\".join(lines)},\n",
    "        ],\n",
    "        extra_body={\"enable_thinking\": False},\n",
    "    )\n",
    "    return completion.choices[0].message.content\n",
    "\n",
    "def analysis_conflict(module_name, content1, content2):\n",
    "    completion = client.chat.completions.create(\n",
    "        model=\"qwen2.5-1.5b-instruct\",\n",
    "        messages=[\n",
    "            {\"role\": \"system\", \"content\": f\"\"\"你是一个专业的保险行业的信息处理专家，请对下面文本进行严谨的一致性进行分析，判断是否相同条件的表达存在不一致的情况，只需要回答一致或不一致，不要有其他任何输出。\n",
    "            \n",
    "- 基础产品销售信息：该保险产品的基础配置信息，包括产品名、附加的条款信息、销售限制等；\n",
    "- 投保条款：投保过程中的缴费约定、投被保人条件限制等；\n",
    "- 保障责任：约定该产品的保险责任细节，如保障范围、保险金额、增值服务等；\n",
    "- 保障相关时间：约定该产品的各类时间信息，包括但不限于犹豫期、等待期、宽限期等；\n",
    "- 赔付 & 领取规则：约定该产品的保险责任的赔付、给付、领取及免赔细节，如赔付年龄/比例/次数等；\n",
    "- 责任免除：约定该产品不承担保险责任的情形；\n",
    "- 续保条款：约定续保相关信息，包括但不限于续保条件、保证续保等；\n",
    "- 退保条款：约定退保相关信息，包括但不限于退保条件、退保手续费等；\n",
    "- 出险条款：约定出险相关信息，包括但不限于出险地点、出险方式等；\n",
    "- 附加条款：约定该产品的附加条款，如特别约定等；\n",
    "- 术语解释：约定该产品的术语解释，如名词定义等；\"\"\"},\n",
    "            {\"role\": \"user\", \"content\": f\"\"\"片段1\\n{content1}\\n\\n片段2\\n{content2}\\n\\n分析上述两个片段的{module_name}是否存在相同的条件但表达不一致的情况。\"\"\"},\n",
    "        ],\n",
    "        extra_body={\"enable_thinking\": False},\n",
    "    )\n",
    "    return completion.choices[0].message.content"
   ]
  },
  {
   "cell_type": "code",
   "execution_count": null,
   "id": "f7249c23-7f64-4d45-9a04-3b77c6163f6d",
   "metadata": {
    "scrolled": true
   },
   "outputs": [],
   "source": [
    "for row in pd.read_json(\"样例集/data.jsonl\", lines=True).iloc[2:4].iterrows():\n",
    "    module_name = row[1].rule.replace(\"该产品的\", \"\").replace(\"在各材料中的定义没有冲突\", \"\")\n",
    "\n",
    "    module_content_list = []\n",
    "    for path in glob.glob(f\"样例集/materials/{row[1].material_id}/*/*\"):\n",
    "        lines = open(path).readlines()\n",
    "\n",
    "        module_lines = \"\"\n",
    "        for chunk_lines in get_chunk_list(lines):\n",
    "            res = exteract_module_raw_text(module_name, chunk_lines)\n",
    "            if res:\n",
    "                module_lines = module_lines + res\n",
    "        \n",
    "        module_content_list.append(module_lines)\n",
    "\n",
    "    print(\"\\n\")\n",
    "    print(row[1].material_id)\n",
    "    for i in range(len(module_content_list)):\n",
    "        for j in range(i, len(module_content_list)):\n",
    "            print(analysis_conflict(module_name, module_content_list[i], module_content_list[j]))"
   ]
  },
  {
   "cell_type": "code",
   "execution_count": null,
   "id": "dadfc0ad-c793-45c5-9630-4225a2e3ff71",
   "metadata": {},
   "outputs": [],
   "source": [
    "test = pd.read_json(\"测试 A 集/data.jsonl\", lines=True)\n",
    "test"
   ]
  },
  {
   "cell_type": "code",
   "execution_count": null,
   "id": "c5d5a6f7-9b2b-425d-b6f6-a544b4352233",
   "metadata": {},
   "outputs": [],
   "source": [
    "pd.read_json(\"测试 A 集/data.jsonl\", lines=True).iloc[124:]"
   ]
  },
  {
   "cell_type": "code",
   "execution_count": null,
   "id": "52fe1aa6-e75b-4c2b-bd64-effa74bf6702",
   "metadata": {
    "scrolled": true
   },
   "outputs": [],
   "source": [
    "for row in pd.read_json(\"测试 A 集/data.jsonl\", lines=True).iloc[:].iterrows():\n",
    "    module_name = row[1].rule.replace(\"该产品的\", \"\").replace(\"在各材料中的定义没有冲突\", \"\")\n",
    "\n",
    "    print(\"\")\n",
    "    print(row[1].material_id)\n",
    "\n",
    "    try:\n",
    "        module_content_list = []\n",
    "        for path in glob.glob(f\"测试 A 集/materials/{row[1].material_id}/*/*\"):\n",
    "            print(path)\n",
    "            lines = open(path).readlines()\n",
    "            module_lines = \"\"\n",
    "            for chunk_lines in get_chunk_list(lines):\n",
    "                res = exteract_module_raw_text(module_name, chunk_lines)\n",
    "                if res:\n",
    "                    module_lines = module_lines + res\n",
    "            \n",
    "            module_content_list.append(module_lines)\n",
    "    \n",
    "        result = [0, 1]\n",
    "        for i in range(len(module_content_list)):\n",
    "            for j in range(i, len(module_content_list)):\n",
    "                if \"不一致\" in analysis_conflict(module_name, module_content_list[i], module_content_list[j]):\n",
    "                    result.append(1)\n",
    "                else:\n",
    "                    result.append(0)\n",
    "    \n",
    "        with open(\"submit.jsonl\", \"a\") as up:\n",
    "            up.write(json.dumps({\n",
    "                \"material_id\": row[1].material_id,\n",
    "                \"rule_id\": row[1].rule_id,\n",
    "                \"result\": bool(np.mean(result) < 0.3)\n",
    "            }) + \"\\n\")\n",
    "    \n",
    "        print(np.mean(result))\n",
    "    except:\n",
    "        with open(\"submit.jsonl\", \"a\") as up:\n",
    "            up.write(json.dumps({\n",
    "                \"material_id\": row[1].material_id,\n",
    "                \"rule_id\": row[1].rule_id,\n",
    "                \"result\": False\n",
    "            }) + \"\\n\")"
   ]
  }
 ],
 "metadata": {
  "kernelspec": {
   "display_name": ".venv",
   "language": "python",
   "name": "python3"
  },
  "language_info": {
   "codemirror_mode": {
    "name": "ipython",
    "version": 3
   },
   "file_extension": ".py",
   "mimetype": "text/x-python",
   "name": "python",
   "nbconvert_exporter": "python",
   "pygments_lexer": "ipython3",
   "version": "3.12.10"
  }
 },
 "nbformat": 4,
 "nbformat_minor": 5
}
